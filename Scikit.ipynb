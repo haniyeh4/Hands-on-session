{
 "cells": [
  {
   "cell_type": "markdown",
   "id": "e35219a5-822a-4a53-b614-d58fa355859c",
   "metadata": {},
   "source": [
    "# Installing the prerequisites"
   ]
  },
  {
   "cell_type": "markdown",
   "id": "d0aa2460-cf3e-4e0c-ba7a-f7f8689d2393",
   "metadata": {},
   "source": [
    "#### For installing scikit-learn library, use the command below:"
   ]
  },
  {
   "cell_type": "markdown",
   "id": "8a87d7c3-eab5-4ef9-a09f-37ac68460353",
   "metadata": {},
   "source": [
    "$ pip3 install -U scikit-learn"
   ]
  },
  {
   "cell_type": "markdown",
   "id": "fac16404-3ff6-4652-b5f8-2b790e163c9a",
   "metadata": {},
   "source": [
    "#### For installing Scipy, use the command below:"
   ]
  },
  {
   "cell_type": "markdown",
   "id": "7bb24e5c-65d2-4511-b904-0c5d108cadd0",
   "metadata": {},
   "source": [
    "$ python -m pip install scipy"
   ]
  },
  {
   "cell_type": "markdown",
   "id": "f065f81a-f394-4bd2-a5e3-f858e7471666",
   "metadata": {},
   "source": [
    "#### For installing Pandas:"
   ]
  },
  {
   "cell_type": "markdown",
   "id": "80872307-210b-4624-953d-9fb068365e31",
   "metadata": {},
   "source": [
    "$ python -m pip install scipy"
   ]
  },
  {
   "cell_type": "markdown",
   "id": "7f204c76-5900-464f-bccd-2829620b0591",
   "metadata": {},
   "source": [
    "#### Also, we may need Seaborn:"
   ]
  },
  {
   "cell_type": "markdown",
   "id": "5d50c422-5ff2-43b5-88eb-8693d75684e4",
   "metadata": {},
   "source": [
    "$ pip install seaborn"
   ]
  },
  {
   "cell_type": "markdown",
   "id": "b96f28d5-a64a-4d4f-aacd-24a503ff148d",
   "metadata": {},
   "source": [
    "#### And I assume everyone have Matplotlib and Numpy on their system."
   ]
  },
  {
   "cell_type": "markdown",
   "id": "9e31877a-2285-4576-84bb-afd04c0257b9",
   "metadata": {},
   "source": [
    "# Importing Dataset"
   ]
  },
  {
   "cell_type": "code",
   "execution_count": null,
   "id": "4c290e74-3d9f-498d-98f5-5da6433744ac",
   "metadata": {},
   "outputs": [],
   "source": [
    "import sklearn"
   ]
  },
  {
   "cell_type": "code",
   "execution_count": null,
   "id": "ea798dce-ed4d-4ea6-adbf-c5beb6764498",
   "metadata": {},
   "outputs": [],
   "source": [
    "from sklearn.datasets import load_iris"
   ]
  },
  {
   "cell_type": "code",
   "execution_count": null,
   "id": "3fc02cf8-73f5-4982-b9ae-ca987a29eae7",
   "metadata": {},
   "outputs": [],
   "source": [
    "load_iris()"
   ]
  },
  {
   "cell_type": "code",
   "execution_count": null,
   "id": "68cf4b36-9c74-4e2e-831b-40cb0d841797",
   "metadata": {
    "scrolled": false
   },
   "outputs": [],
   "source": [
    "load_iris(return_X_y = True)"
   ]
  },
  {
   "cell_type": "code",
   "execution_count": null,
   "id": "58d2f3cb-c43e-474e-8188-09fcd5f55e6f",
   "metadata": {},
   "outputs": [],
   "source": [
    "X, y = load_iris(return_X_y = True)"
   ]
  },
  {
   "cell_type": "markdown",
   "id": "4a7c84c5",
   "metadata": {},
   "source": [
    "# Data Cleaning and Pre-processing"
   ]
  },
  {
   "cell_type": "code",
   "execution_count": null,
   "id": "5968d9bf-54b6-4463-a033-d4d28b9129a2",
   "metadata": {},
   "outputs": [],
   "source": [
    "import pandas as pd"
   ]
  },
  {
   "cell_type": "code",
   "execution_count": null,
   "id": "119784e0-98de-443d-9a0e-37a3de0672ed",
   "metadata": {},
   "outputs": [],
   "source": [
    "# to load dataset, we need this functionality\n",
    "\n",
    "from sklearn.datasets  import fetch_openml"
   ]
  },
  {
   "cell_type": "code",
   "execution_count": null,
   "id": "02c0cf35-cd85-4bdb-a4f1-e908897c6d5b",
   "metadata": {},
   "outputs": [],
   "source": [
    "# Import dataset using fetch_openml and store it inside the dataframe\n",
    "\n",
    "df = fetch_openml('titanic', version = 1, as_frame = True)['data']"
   ]
  },
  {
   "cell_type": "code",
   "execution_count": null,
   "id": "b21b2b3d-0c93-47f3-a851-33c34a97d058",
   "metadata": {},
   "outputs": [],
   "source": [
    "df.info()"
   ]
  },
  {
   "cell_type": "code",
   "execution_count": null,
   "id": "0c4df254-18f9-4dce-bc68-403f87bd1503",
   "metadata": {},
   "outputs": [],
   "source": [
    "df.isnull()"
   ]
  },
  {
   "cell_type": "code",
   "execution_count": null,
   "id": "5afb731f-a8d1-4881-9579-6d93497b3403",
   "metadata": {},
   "outputs": [],
   "source": [
    "df.isnull().sum()"
   ]
  },
  {
   "cell_type": "code",
   "execution_count": null,
   "id": "66d6e166-d5ce-4877-98ae-9252608f9ab6",
   "metadata": {},
   "outputs": [],
   "source": [
    "import seaborn as sns"
   ]
  },
  {
   "cell_type": "code",
   "execution_count": null,
   "id": "b411f17b-be32-42ef-b6ec-e910744b1c0d",
   "metadata": {},
   "outputs": [],
   "source": [
    "sns.set()\n",
    "miss_val_per = pd.DataFrame((df.isnull().sum()/len(df))*100)\n",
    "miss_val_per.plot(kind = 'bar', title = 'Missing value in percentage', ylabel = 'percentage')"
   ]
  },
  {
   "cell_type": "code",
   "execution_count": null,
   "id": "463d11b4-0485-4edb-939e-6701ac1282c8",
   "metadata": {},
   "outputs": [],
   "source": [
    "print(f'size of dataset: {df.shape}')"
   ]
  },
  {
   "cell_type": "code",
   "execution_count": null,
   "id": "18f9556f-21aa-4271-be8e-afcf1959db51",
   "metadata": {},
   "outputs": [],
   "source": [
    "df.drop(['body'], axis = 1, inplace = True)\n",
    "print(f'Size of the dataset after dropping a feature: {df.shape}')"
   ]
  },
  {
   "cell_type": "code",
   "execution_count": null,
   "id": "110820a5-dd28-4f67-909b-a1c9235bfc2a",
   "metadata": {},
   "outputs": [],
   "source": [
    "from sklearn.impute import SimpleImputer"
   ]
  },
  {
   "cell_type": "code",
   "execution_count": null,
   "id": "59bd43f3-da0f-4e40-9a99-f2dbe5db1d7f",
   "metadata": {},
   "outputs": [],
   "source": [
    "print(f'Number of Null values before imputing: {df.age.isnull().sum()}')"
   ]
  },
  {
   "cell_type": "code",
   "execution_count": null,
   "id": "bb1250f4-ac6c-4f21-8ec6-e3ddff95969a",
   "metadata": {},
   "outputs": [],
   "source": [
    "imp = SimpleImputer(strategy = 'mean')\n",
    "df['age'] = imp.fit_transform(df[['age']])\n",
    "print(f'Number of null values in age column after imputation: {df.age.isnull().sum()}')"
   ]
  },
  {
   "cell_type": "code",
   "execution_count": null,
   "id": "ae8578b8-70cc-4178-b5a7-4e9f541cdd84",
   "metadata": {},
   "outputs": [],
   "source": [
    "def get_parameters(df):\n",
    "    parameters = {}\n",
    "    for col in df.columns[df.isnull().any()]:\n",
    "        \n",
    "        if df[col].dtype == 'float64' or df[col].dtype == 'int64' or df[col].dtype == 'int32' :\n",
    "            strategy = 'mean'\n",
    "        else:\n",
    "            strategy = 'most_frequent'\n",
    "            \n",
    "        missing_values = df[col][df[col].isnull()].values[0]\n",
    "        parameters[col] = {'missing_values': missing_values, 'strategy': strategy}\n",
    "    return parameters\n",
    "\n",
    "get_parameters(df)"
   ]
  },
  {
   "cell_type": "code",
   "execution_count": null,
   "id": "cecc67ad-6c58-49a0-b607-6aaee51c337d",
   "metadata": {},
   "outputs": [],
   "source": [
    "parameters = get_parameters(df)"
   ]
  },
  {
   "cell_type": "code",
   "execution_count": null,
   "id": "ffb52578-7a20-4cde-81fa-d1b987718f16",
   "metadata": {},
   "outputs": [],
   "source": [
    "for col, param in parameters.items():\n",
    "    missing_values = param['missing_values']\n",
    "    strategy = param['strategy']\n",
    "    imp = SimpleImputer(missing_values = missing_values, strategy = strategy)\n",
    "    df[col] = imp.fit_transform"
   ]
  },
  {
   "cell_type": "code",
   "execution_count": null,
   "id": "0d67eb98-88ae-4b8f-b330-460e461cc9c4",
   "metadata": {},
   "outputs": [],
   "source": [
    "df.isnull().sum()"
   ]
  },
  {
   "cell_type": "code",
   "execution_count": null,
   "id": "63e934c3-f74f-46cd-8c73-22f8b5824e61",
   "metadata": {},
   "outputs": [],
   "source": [
    " df.head()"
   ]
  },
  {
   "cell_type": "code",
   "execution_count": null,
   "id": "124649fd-e1da-4c72-bcd4-6b8708c42a5f",
   "metadata": {},
   "outputs": [],
   "source": [
    "df['family'] = df['sibsp'] + df['parch']\n",
    "df.loc[df['family'] > 0, 'travelled_alone'] = 0\n",
    "df.loc[df['family'] == 0, 'travelled_alone'] = 1\n",
    "df['travelled_alone'].value_counts().plot(title = 'Passanger travelled alone?', kind = 'bar')"
   ]
  },
  {
   "cell_type": "code",
   "execution_count": null,
   "id": "eba727a1-2b88-4ada-92dc-e887ab5b8461",
   "metadata": {},
   "outputs": [],
   "source": [
    "from sklearn.preprocessing import OneHotEncoder\n",
    "df[['female', 'male']] = OneHotEncoder().fit_transform(df[['sex']]).toarray()\n",
    "df[['sex', 'female', 'male']]"
   ]
  },
  {
   "cell_type": "code",
   "execution_count": null,
   "id": "83f02d9d-86ce-4665-9b52-1a01bab51000",
   "metadata": {},
   "outputs": [],
   "source": [
    "df['sex'] = OneHotEncoder().fit_transform(df[['sex']]).toarray()[:,1]"
   ]
  },
  {
   "cell_type": "code",
   "execution_count": null,
   "id": "1f373b96-07b1-4071-902f-ffee25d5cf7f",
   "metadata": {},
   "outputs": [],
   "source": [
    "df.head()"
   ]
  },
  {
   "cell_type": "code",
   "execution_count": null,
   "id": "a8604c10-cb37-4b71-8068-32b82be0c559",
   "metadata": {},
   "outputs": [],
   "source": [
    " from sklearn.preprocessing import StandardScaler"
   ]
  },
  {
   "cell_type": "code",
   "execution_count": null,
   "id": "772bb007-4673-4f38-9b69-323439e941d1",
   "metadata": {},
   "outputs": [],
   "source": [
    "num_cols = df.select_dtypes(include=['int64', 'float64', 'int32']).columns\n",
    "print(num_cols)"
   ]
  },
  {
   "cell_type": "code",
   "execution_count": null,
   "id": "176a5715-fc80-4ef6-8cd6-af956589f2b5",
   "metadata": {},
   "outputs": [],
   "source": [
    "ss = StandardScaler()"
   ]
  },
  {
   "cell_type": "code",
   "execution_count": null,
   "id": "34a43a51-1ae9-4959-89aa-5206ca9abed5",
   "metadata": {},
   "outputs": [],
   "source": [
    "df[num_cols] = ss.fit_transform(df[num_cols])\n",
    "df[num_cols].describe()"
   ]
  },
  {
   "cell_type": "code",
   "execution_count": null,
   "id": "fec99614-297e-4961-864e-459f4db9998f",
   "metadata": {},
   "outputs": [],
   "source": [
    "from sklearn.preprocessing import MinMaxScaler\n",
    "minmax = MinMaxScaler()\n",
    "df[num_cols] = minmax.fit_transform(df[num_cols])\n",
    "df[num_cols]"
   ]
  },
  {
   "cell_type": "code",
   "execution_count": null,
   "id": "207ec174-604e-4eda-8e41-3b50a86db32f",
   "metadata": {},
   "outputs": [],
   "source": [
    "import numpy as np\n",
    "x = np.array([[0, 0], [0, 1], [1,0], [1, 1]])\n",
    "y = np.array([0, 1, 1, 1])\n",
    "x"
   ]
  },
  {
   "cell_type": "code",
   "execution_count": null,
   "id": "d809c5e4-72b4-4b98-9a6e-3de0bd79fc38",
   "metadata": {},
   "outputs": [],
   "source": [
    "y"
   ]
  },
  {
   "cell_type": "code",
   "execution_count": null,
   "id": "5fa785c4-6bcd-4703-bf6f-eab768a9fd65",
   "metadata": {},
   "outputs": [],
   "source": [
    "w = np.array([1, 1])"
   ]
  },
  {
   "cell_type": "code",
   "execution_count": null,
   "id": "ddf32398-f685-4447-b5ea-031c4522705c",
   "metadata": {},
   "outputs": [],
   "source": [
    "w"
   ]
  },
  {
   "cell_type": "code",
   "execution_count": null,
   "id": "5d6e3cb8-5b9f-4011-9594-e352cc4d6393",
   "metadata": {},
   "outputs": [],
   "source": [
    "b = -0.5"
   ]
  },
  {
   "cell_type": "code",
   "execution_count": null,
   "id": "54fd4789-c4bb-44d1-a71d-e83fe92975a8",
   "metadata": {},
   "outputs": [],
   "source": [
    "pred = []"
   ]
  },
  {
   "cell_type": "code",
   "execution_count": null,
   "id": "9a4452fb-de9c-423b-80b2-24544156a16f",
   "metadata": {},
   "outputs": [],
   "source": [
    "def activation(z):\n",
    "    if z >= 0:\n",
    "        return 1\n",
    "    else:\n",
    "        return 0"
   ]
  },
  {
   "cell_type": "code",
   "execution_count": null,
   "id": "c617cbd5-6ebe-45e0-bc60-2df7d17c56bb",
   "metadata": {},
   "outputs": [],
   "source": [
    "for a in x:\n",
    "    y_hat = np.dot(a, w) + b\n",
    "    pred.append(activation(y_hat))"
   ]
  },
  {
   "cell_type": "code",
   "execution_count": null,
   "id": "548cb1bb-a769-4db5-beb6-cb51f98e786f",
   "metadata": {},
   "outputs": [],
   "source": [
    "pred"
   ]
  },
  {
   "cell_type": "code",
   "execution_count": null,
   "id": "6fb99a04-cc57-48c7-843f-f240bf678620",
   "metadata": {},
   "outputs": [],
   "source": [
    "import math\n",
    "import numpy as np"
   ]
  },
  {
   "cell_type": "code",
   "execution_count": null,
   "id": "228f6170-4bfd-4126-ad9f-c6fb0105bdaf",
   "metadata": {},
   "outputs": [],
   "source": [
    "epochs = 100\n",
    "alpha = 0.2"
   ]
  },
  {
   "cell_type": "code",
   "execution_count": null,
   "id": "b5d5d25e-5b0c-45e3-bcef-9d00606b06a3",
   "metadata": {},
   "outputs": [],
   "source": [
    "w0 = np.random.random()\n",
    "w1 = np.random.random()\n",
    "w2 = np.random.random()\n",
    "print(\"initial wights: \")\n",
    "print(\"w0 = \", w0, \"w1 = \", w1, \"w2 = \", w2)"
   ]
  },
  {
   "cell_type": "code",
   "execution_count": null,
   "id": "bd5786ab-62ee-41e2-869d-68f8efd638e5",
   "metadata": {},
   "outputs": [],
   "source": [
    "del_w0 = 1\n",
    "del_w1 = 1\n",
    "del_w2 = 1"
   ]
  },
  {
   "cell_type": "code",
   "execution_count": null,
   "id": "26b9327a-6c7c-4c0c-aba5-0c289c6a4c9e",
   "metadata": {},
   "outputs": [],
   "source": [
    "train_data_temp = [[0, 0, 0], [0, 0, 1], [0, 1, 0], [0, 1, 1], [1, 0, 0], [1, 0, 1], [1, 1, 0], [1, 1, 1]]\n",
    "train_data = np.asarray(train_data_temp)\n",
    "op = np.array([0, 1, 1, 1, 1, 1, 1, 1])"
   ]
  },
  {
   "cell_type": "code",
   "execution_count": null,
   "id": "7138e2a7-c892-4d34-ae69-5b42b4c50d46",
   "metadata": {},
   "outputs": [],
   "source": [
    "train_data"
   ]
  },
  {
   "cell_type": "code",
   "execution_count": null,
   "id": "584137d8-9076-4302-ab05-2ff05886b508",
   "metadata": {},
   "outputs": [],
   "source": [
    "op"
   ]
  },
  {
   "cell_type": "code",
   "execution_count": null,
   "id": "ba6b7cd5-3963-473e-b8d2-7b2c9ad40cdb",
   "metadata": {},
   "outputs": [],
   "source": [
    "bias = 0\n",
    "for i in range(epochs):\n",
    "    j = 0\n",
    "    for x in train_data:\n",
    "        y_hat = w0*x[0] + w1*x[1] + w2*x[2] + bias\n",
    "        if (y_hat >= 0):\n",
    "            act = 1\n",
    "        else:\n",
    "            act = 0\n",
    "        err = op[j] - act\n",
    "        del_w0 = alpha*x[0]*err\n",
    "        del_w1 = alpha*x[1]*err\n",
    "        del_w2 = alpha*x[2]*err\n",
    "        \n",
    "        w0 = w0 + del_w0\n",
    "        w1 = w1 + del_w1\n",
    "        w2 = w2 + del_w2\n",
    "        \n",
    "        j = j + 1\n",
    "        \n",
    "        #print('epoch', i+1, 'error = ', err)\n",
    "        #print(del_w0, del_w1, del_w2)\n",
    "\n",
    "print('\\nFinal Weights = ')\n",
    "print('w0 = ', w0, 'w1 = ', w1, 'w2 = ', w2)"
   ]
  },
  {
   "cell_type": "markdown",
   "id": "45ed54e6-6b2b-48dc-b5f9-4ec4d140ca5c",
   "metadata": {},
   "source": [
    "# Pre-processing"
   ]
  },
  {
   "cell_type": "code",
   "execution_count": null,
   "id": "03a6f040-701c-418d-861b-b0ac9a462a48",
   "metadata": {},
   "outputs": [],
   "source": []
  }
 ],
 "metadata": {
  "kernelspec": {
   "display_name": "Python 3 (ipykernel)",
   "language": "python",
   "name": "python3"
  },
  "language_info": {
   "codemirror_mode": {
    "name": "ipython",
    "version": 3
   },
   "file_extension": ".py",
   "mimetype": "text/x-python",
   "name": "python",
   "nbconvert_exporter": "python",
   "pygments_lexer": "ipython3",
   "version": "3.8.16"
  }
 },
 "nbformat": 4,
 "nbformat_minor": 5
}
